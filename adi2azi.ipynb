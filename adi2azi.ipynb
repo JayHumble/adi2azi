{
 "cells": [
  {
   "cell_type": "markdown",
   "metadata": {},
   "source": [
    "# Adi2Azi\n",
    "\n",
    "Author: Jacob Humble - AI5ZK\n",
    "\n",
    "This notebook will turn an .adi file into an azimuthal map centered on the configured origin_lat and origin_lon. The .adi file should be put in the same directory as this file. Note that the file **must** include, for each QSO, a LAT and LON field. wsjt-x's ADIF does not contain this, and will not work correctly if you upload it. Any .adi produced by QRZ *will* include this data, so one *possible* way to get a compatible file is to upload your log to QRZ, then export it."
   ]
  },
  {
   "cell_type": "code",
   "execution_count": 1,
   "metadata": {},
   "outputs": [],
   "source": [
    "# Coords to center map on\n",
    "origin_lat = 0\n",
    "origin_lon = 0"
   ]
  },
  {
   "cell_type": "code",
   "execution_count": 2,
   "metadata": {},
   "outputs": [],
   "source": [
    "# Read .adi file and turn it into lists of coordinates\n",
    "\n",
    "import pandas as pd\n",
    "import adif_io as ad\n",
    "with open('log.adi', mode='rt', encoding=\"utf8\") as file:\n",
    "    data = file.read()\n",
    "\n",
    "qsos_raw, header = ad.read_from_string(data)\n",
    "qsos = pd.DataFrame(qsos_raw)\n",
    "\n",
    "lolat, lolon = qsos.apply(lambda row : ad.degrees_from_location(row['LAT']), axis=1), qsos.apply(lambda row : ad.degrees_from_location(row['LON']), axis=1)"
   ]
  },
  {
   "cell_type": "markdown",
   "metadata": {},
   "source": [
    "# MatPlotLib - BaseMap Version\n",
    "\n",
    "This outputs a QSO map using MatPlotLib and Basemap."
   ]
  },
  {
   "cell_type": "code",
   "execution_count": null,
   "metadata": {},
   "outputs": [],
   "source": [
    "# MatPlotLib Basemap Version\n",
    "\n",
    "from mpl_toolkits.basemap import Basemap\n",
    "import numpy as np\n",
    "import matplotlib.pyplot as plt\n",
    "width = 28305550\n",
    "m = Basemap(width=width,height=width,projection='aeqd',\n",
    "            lat_0=origin_lat,lon_0=origin_lon)\n",
    "\n",
    "# fill background.\n",
    "m.drawmapboundary(fill_color='ghostwhite')\n",
    "\n",
    "# draw coasts\n",
    "m.drawcoastlines(linewidth=0.5)\n",
    "\n",
    "# 20 degree graticule.\n",
    "m.drawparallels(np.arange(-80,81,20))\n",
    "m.drawmeridians(np.arange(-180,180,20))\n",
    "\n",
    "# plot qsos\n",
    "lonpnt, latpnt = m(lolon, lolat)\n",
    "m.plot(lonpnt,latpnt,'rx', markersize=1) \n",
    "\n",
    "plt.title('Azimuthal Map of QSOs')\n",
    "plt.show()"
   ]
  },
  {
   "cell_type": "markdown",
   "metadata": {},
   "source": [
    "# GeoPandas\n",
    "\n",
    "This outputs an azimuthal QSO map using GeoPandas."
   ]
  },
  {
   "cell_type": "code",
   "execution_count": null,
   "metadata": {},
   "outputs": [],
   "source": [
    "import geopandas as gpd\n",
    "import geodatasets\n",
    "from shapely.geometry import Point\n",
    "\n",
    "# Setup World Map\n",
    "world = gpd.read_file(geodatasets.get_path(\"naturalearth.land\"))\n",
    "fig, ax = plt.subplots(figsize = (15,15))\n",
    "\n",
    "\n",
    "# Setup QSO Points\n",
    "qso_geo = [Point(xy) for xy in zip(lolon, lolat)]\n",
    "qso_df = gpd.GeoDataFrame(geometry = qso_geo)\n",
    "qso_df.crs = 4326\n",
    "\n",
    "# Set QTH Point\n",
    "origin = [Point(origin_lon, origin_lat)]\n",
    "o_df = gpd.GeoDataFrame(geometry = origin)\n",
    "o_df.crs = 4326\n",
    "\n",
    "# Transform & Plot\n",
    "trnsfrm_rule = '+proj=laea +lat_0=' + str(origin_lat) + ' +lon_0=' + str(origin_lon) + ' +x_0=0 +y_0=0 +a=6371007.181 +b=6371007.181 +units=m +no_defs'\n",
    "\n",
    "world = world.to_crs(trnsfrm_rule)\n",
    "world.plot(ax = ax)\n",
    "\n",
    "o_df = o_df.to_crs(trnsfrm_rule)\n",
    "origin = o_df.plot(ax = ax, markersize = 30, color = 'yellow', marker = 'o',label = 'You')\n",
    "\n",
    "qso_df = qso_df.to_crs(trnsfrm_rule)\n",
    "q = qso_df.plot(ax = ax, markersize = 20, color = 'red',marker = 'x',label = 'QSOs')\n",
    "\n",
    "\n",
    "plt.title('Azimuthal Map of QSOs')\n",
    "plt.legend()\n",
    "plt.show()\n"
   ]
  }
 ],
 "metadata": {
  "kernelspec": {
   "display_name": "Python 3",
   "language": "python",
   "name": "python3"
  },
  "language_info": {
   "codemirror_mode": {
    "name": "ipython",
    "version": 3
   },
   "file_extension": ".py",
   "mimetype": "text/x-python",
   "name": "python",
   "nbconvert_exporter": "python",
   "pygments_lexer": "ipython3",
   "version": "3.12.6"
  }
 },
 "nbformat": 4,
 "nbformat_minor": 2
}
